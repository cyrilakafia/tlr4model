{
 "cells": [
  {
   "cell_type": "code",
   "execution_count": 71,
   "metadata": {},
   "outputs": [],
   "source": [
    "# import pandas\n",
    "import pandas as pd"
   ]
  },
  {
   "cell_type": "markdown",
   "metadata": {},
   "source": [
    "**Combining csv for known inhibitors**"
   ]
  },
  {
   "cell_type": "code",
   "execution_count": 76,
   "metadata": {},
   "outputs": [],
   "source": [
    "# reading csv files\n",
    "df_gbc_5 = pd.read_csv('gbc_5_predicted_known_inhibitors.csv')\n",
    "df_lightgbc_3 = pd.read_csv('lightgbc_3_predicted_known_inhibitors.csv')\n",
    "df_lightgbc_5 = pd.read_csv('lightgbc_5_predicted_known_inhibitors.csv')\n",
    "df_xgboost_1 = pd.read_csv('xgboost_1_predicted_known_inhibitors.csv')\n",
    "df_xgboost_2 = pd.read_csv('xgboost_2_predicted_known_inhibitors.csv')\n",
    "df_xgboost_3 = pd.read_csv('xgboost_3_predicted_known_inhibitors.csv')\n",
    "df_xgboost_4 = pd.read_csv('xgboost_4_predicted_known_inhibitors.csv')\n",
    "df_xgboost_5 = pd.read_csv('xgboost_5_predicted_known_inhibitors.csv')"
   ]
  },
  {
   "cell_type": "code",
   "execution_count": 77,
   "metadata": {},
   "outputs": [],
   "source": [
    "# combining dataframes by column\n",
    "df_known_inhibitors = pd.concat([df_gbc_5, df_lightgbc_3, df_lightgbc_5, df_xgboost_1, df_xgboost_2, df_xgboost_3, df_xgboost_4, df_xgboost_5], axis=0)\n",
    "\n",
    "# changing USER_ID column to strings\n",
    "df_known_inhibitors['USER_ID'] = df_known_inhibitors['USER_ID'].astype(str)"
   ]
  },
  {
   "cell_type": "code",
   "execution_count": 79,
   "metadata": {},
   "outputs": [
    {
     "name": "stdout",
     "output_type": "stream",
     "text": [
      "Total number of unique compounds:  8\n"
     ]
    }
   ],
   "source": [
    "# checking total number of unique compounds\n",
    "print('Total number of unique compounds: ', len(df_known_inhibitors['USER_ID'].unique()))"
   ]
  },
  {
   "cell_type": "code",
   "execution_count": 80,
   "metadata": {},
   "outputs": [
    {
     "data": {
      "text/plain": [
       "8087741     8\n",
       "2534913     8\n",
       "44224215    8\n",
       "2545304     7\n",
       "11703255    7\n",
       "DB01136     2\n",
       "53480255    1\n",
       "6912404     1\n",
       "Name: USER_ID, dtype: int64"
      ]
     },
     "execution_count": 80,
     "metadata": {},
     "output_type": "execute_result"
    }
   ],
   "source": [
    "df_known_inhibitors['USER_ID'].value_counts()"
   ]
  },
  {
   "cell_type": "markdown",
   "metadata": {},
   "source": [
    "From inspection, `DB00704` was not predicted by any of the 8 models"
   ]
  },
  {
   "cell_type": "code",
   "execution_count": 81,
   "metadata": {},
   "outputs": [
    {
     "data": {
      "text/html": [
       "<div>\n",
       "<style scoped>\n",
       "    .dataframe tbody tr th:only-of-type {\n",
       "        vertical-align: middle;\n",
       "    }\n",
       "\n",
       "    .dataframe tbody tr th {\n",
       "        vertical-align: top;\n",
       "    }\n",
       "\n",
       "    .dataframe thead th {\n",
       "        text-align: right;\n",
       "    }\n",
       "</style>\n",
       "<table border=\"1\" class=\"dataframe\">\n",
       "  <thead>\n",
       "    <tr style=\"text-align: right;\">\n",
       "      <th></th>\n",
       "      <th>USER_ID</th>\n",
       "      <th>min</th>\n",
       "      <th>max</th>\n",
       "    </tr>\n",
       "  </thead>\n",
       "  <tbody>\n",
       "    <tr>\n",
       "      <th>0</th>\n",
       "      <td>11703255</td>\n",
       "      <td>0.907255</td>\n",
       "      <td>0.999985</td>\n",
       "    </tr>\n",
       "    <tr>\n",
       "      <th>1</th>\n",
       "      <td>2534913</td>\n",
       "      <td>0.968404</td>\n",
       "      <td>1.000000</td>\n",
       "    </tr>\n",
       "    <tr>\n",
       "      <th>2</th>\n",
       "      <td>2545304</td>\n",
       "      <td>0.922072</td>\n",
       "      <td>0.994888</td>\n",
       "    </tr>\n",
       "    <tr>\n",
       "      <th>3</th>\n",
       "      <td>44224215</td>\n",
       "      <td>0.841027</td>\n",
       "      <td>0.997138</td>\n",
       "    </tr>\n",
       "    <tr>\n",
       "      <th>4</th>\n",
       "      <td>53480255</td>\n",
       "      <td>0.731497</td>\n",
       "      <td>0.731497</td>\n",
       "    </tr>\n",
       "    <tr>\n",
       "      <th>5</th>\n",
       "      <td>6912404</td>\n",
       "      <td>0.504077</td>\n",
       "      <td>0.504077</td>\n",
       "    </tr>\n",
       "    <tr>\n",
       "      <th>6</th>\n",
       "      <td>8087741</td>\n",
       "      <td>0.897402</td>\n",
       "      <td>0.999999</td>\n",
       "    </tr>\n",
       "    <tr>\n",
       "      <th>7</th>\n",
       "      <td>DB01136</td>\n",
       "      <td>0.992609</td>\n",
       "      <td>0.995041</td>\n",
       "    </tr>\n",
       "  </tbody>\n",
       "</table>\n",
       "</div>"
      ],
      "text/plain": [
       "    USER_ID       min       max\n",
       "0  11703255  0.907255  0.999985\n",
       "1   2534913  0.968404  1.000000\n",
       "2   2545304  0.922072  0.994888\n",
       "3  44224215  0.841027  0.997138\n",
       "4  53480255  0.731497  0.731497\n",
       "5   6912404  0.504077  0.504077\n",
       "6   8087741  0.897402  0.999999\n",
       "7   DB01136  0.992609  0.995041"
      ]
     },
     "execution_count": 81,
     "metadata": {},
     "output_type": "execute_result"
    }
   ],
   "source": [
    "# create a dataframe with compounds and their probability range\n",
    "df_known_inhibitors_range = df_known_inhibitors.groupby('USER_ID')['Probabilities'].agg(['min', 'max']).reset_index()\n",
    "df_known_inhibitors_range"
   ]
  },
  {
   "cell_type": "markdown",
   "metadata": {},
   "source": [
    "**Find the peptidomimetic compounds that were predicted by all 8 models**"
   ]
  },
  {
   "cell_type": "code",
   "execution_count": 82,
   "metadata": {},
   "outputs": [],
   "source": [
    "df_gbc_5 = pd.read_csv('gbc_5_predicted_peptidomimetics_life_chemicals.csv')\n",
    "df_lightgbc_3 = pd.read_csv('lightgbc_3_predicted_peptidomimetics_life_chemicals.csv')\n",
    "df_lightgbc_5 = pd.read_csv('lightgbc_5_predicted_peptidomimetics_life_chemicals.csv')\n",
    "df_xgboost_1 = pd.read_csv('xgboost_1_predicted_peptidomimetics_life_chemicals.csv')\n",
    "df_xgboost_2 = pd.read_csv('xgboost_2_predicted_peptidomimetics_life_chemicals.csv')\n",
    "df_xgboost_3 = pd.read_csv('xgboost_3_predicted_peptidomimetics_life_chemicals.csv')\n",
    "df_xgboost_4 = pd.read_csv('xgboost_4_predicted_peptidomimetics_life_chemicals.csv')\n",
    "df_xgboost_5 = pd.read_csv('xgboost_5_predicted_peptidomimetics_life_chemicals.csv')"
   ]
  },
  {
   "cell_type": "code",
   "execution_count": 83,
   "metadata": {},
   "outputs": [],
   "source": [
    "# combine the datasets\n",
    "df_peptidomimetics = pd.concat([df_gbc_5, df_lightgbc_3, df_lightgbc_5, df_xgboost_1, df_xgboost_2, df_xgboost_3, df_xgboost_4, df_xgboost_5], axis=0)"
   ]
  },
  {
   "cell_type": "code",
   "execution_count": 84,
   "metadata": {},
   "outputs": [],
   "source": [
    "# making useer_id column strings\n",
    "df_peptidomimetics['USER_ID'] = df_peptidomimetics['USER_ID'].astype(str)"
   ]
  },
  {
   "cell_type": "code",
   "execution_count": 85,
   "metadata": {},
   "outputs": [
    {
     "data": {
      "text/plain": [
       "3415"
      ]
     },
     "execution_count": 85,
     "metadata": {},
     "output_type": "execute_result"
    }
   ],
   "source": [
    "# checking number of compounds predicted by all models\n",
    "df_peptidomimetics['USER_ID'].nunique()"
   ]
  },
  {
   "cell_type": "markdown",
   "metadata": {},
   "source": [
    "A total of 3415 compounds were predicted by the 8 models as actives with confindence above 0.95"
   ]
  },
  {
   "cell_type": "code",
   "execution_count": 86,
   "metadata": {},
   "outputs": [
    {
     "data": {
      "text/plain": [
       "F1885-0077    8\n",
       "F3225-8556    8\n",
       "F0623-0305    8\n",
       "F2721-0639    8\n",
       "F5222-0010    8\n",
       "             ..\n",
       "F2781-0076    1\n",
       "F2781-0134    1\n",
       "F2721-0626    1\n",
       "F2750-0108    1\n",
       "F3411-4808    1\n",
       "Name: USER_ID, Length: 3415, dtype: int64"
      ]
     },
     "execution_count": 86,
     "metadata": {},
     "output_type": "execute_result"
    }
   ],
   "source": [
    "# checking number of times a compounds was predicted as active by all models\n",
    "df_peptidomimetics['USER_ID'].value_counts()"
   ]
  },
  {
   "cell_type": "code",
   "execution_count": 89,
   "metadata": {},
   "outputs": [],
   "source": [
    "# create dataframe with only compounds predicted by all models\n",
    "df_peptidomimetics_8 = df_peptidomimetics[df_peptidomimetics['USER_ID'].isin(df_peptidomimetics['USER_ID'].value_counts()[df_peptidomimetics['USER_ID'].value_counts() == 8].index)]"
   ]
  },
  {
   "cell_type": "code",
   "execution_count": 91,
   "metadata": {},
   "outputs": [
    {
     "data": {
      "text/html": [
       "<div>\n",
       "<style scoped>\n",
       "    .dataframe tbody tr th:only-of-type {\n",
       "        vertical-align: middle;\n",
       "    }\n",
       "\n",
       "    .dataframe tbody tr th {\n",
       "        vertical-align: top;\n",
       "    }\n",
       "\n",
       "    .dataframe thead th {\n",
       "        text-align: right;\n",
       "    }\n",
       "</style>\n",
       "<table border=\"1\" class=\"dataframe\">\n",
       "  <thead>\n",
       "    <tr style=\"text-align: right;\">\n",
       "      <th></th>\n",
       "      <th>USER_ID</th>\n",
       "      <th>min</th>\n",
       "      <th>max</th>\n",
       "    </tr>\n",
       "  </thead>\n",
       "  <tbody>\n",
       "    <tr>\n",
       "      <th>0</th>\n",
       "      <td>F0291-0021</td>\n",
       "      <td>0.951411</td>\n",
       "      <td>0.999998</td>\n",
       "    </tr>\n",
       "    <tr>\n",
       "      <th>1</th>\n",
       "      <td>F0375-0109</td>\n",
       "      <td>0.980746</td>\n",
       "      <td>1.000000</td>\n",
       "    </tr>\n",
       "    <tr>\n",
       "      <th>2</th>\n",
       "      <td>F0421-0040</td>\n",
       "      <td>0.966963</td>\n",
       "      <td>0.999998</td>\n",
       "    </tr>\n",
       "    <tr>\n",
       "      <th>3</th>\n",
       "      <td>F0423-0108</td>\n",
       "      <td>0.971748</td>\n",
       "      <td>1.000000</td>\n",
       "    </tr>\n",
       "    <tr>\n",
       "      <th>4</th>\n",
       "      <td>F0537-0332</td>\n",
       "      <td>0.964406</td>\n",
       "      <td>1.000000</td>\n",
       "    </tr>\n",
       "    <tr>\n",
       "      <th>...</th>\n",
       "      <td>...</td>\n",
       "      <td>...</td>\n",
       "      <td>...</td>\n",
       "    </tr>\n",
       "    <tr>\n",
       "      <th>154</th>\n",
       "      <td>F6451-1593</td>\n",
       "      <td>0.961244</td>\n",
       "      <td>1.000000</td>\n",
       "    </tr>\n",
       "    <tr>\n",
       "      <th>155</th>\n",
       "      <td>F6451-2637</td>\n",
       "      <td>0.987643</td>\n",
       "      <td>1.000000</td>\n",
       "    </tr>\n",
       "    <tr>\n",
       "      <th>156</th>\n",
       "      <td>F6451-2638</td>\n",
       "      <td>0.980010</td>\n",
       "      <td>1.000000</td>\n",
       "    </tr>\n",
       "    <tr>\n",
       "      <th>157</th>\n",
       "      <td>F6469-1029</td>\n",
       "      <td>0.997595</td>\n",
       "      <td>1.000000</td>\n",
       "    </tr>\n",
       "    <tr>\n",
       "      <th>158</th>\n",
       "      <td>F6521-7868</td>\n",
       "      <td>0.985702</td>\n",
       "      <td>1.000000</td>\n",
       "    </tr>\n",
       "  </tbody>\n",
       "</table>\n",
       "<p>159 rows × 3 columns</p>\n",
       "</div>"
      ],
      "text/plain": [
       "        USER_ID       min       max\n",
       "0    F0291-0021  0.951411  0.999998\n",
       "1    F0375-0109  0.980746  1.000000\n",
       "2    F0421-0040  0.966963  0.999998\n",
       "3    F0423-0108  0.971748  1.000000\n",
       "4    F0537-0332  0.964406  1.000000\n",
       "..          ...       ...       ...\n",
       "154  F6451-1593  0.961244  1.000000\n",
       "155  F6451-2637  0.987643  1.000000\n",
       "156  F6451-2638  0.980010  1.000000\n",
       "157  F6469-1029  0.997595  1.000000\n",
       "158  F6521-7868  0.985702  1.000000\n",
       "\n",
       "[159 rows x 3 columns]"
      ]
     },
     "execution_count": 91,
     "metadata": {},
     "output_type": "execute_result"
    }
   ],
   "source": [
    "# create a dataframe with only compounds that appear 8 times with their probability range\n",
    "df_peptidomimetics_8.groupby('USER_ID')['Probabilities'].agg(['min', 'max']).reset_index()"
   ]
  },
  {
   "cell_type": "markdown",
   "metadata": {},
   "source": [
    "159 compounds were predicted by all 8 models"
   ]
  }
 ],
 "metadata": {
  "kernelspec": {
   "display_name": "Python 3.9.7 ('base')",
   "language": "python",
   "name": "python3"
  },
  "language_info": {
   "codemirror_mode": {
    "name": "ipython",
    "version": 3
   },
   "file_extension": ".py",
   "mimetype": "text/x-python",
   "name": "python",
   "nbconvert_exporter": "python",
   "pygments_lexer": "ipython3",
   "version": "3.9.7"
  },
  "orig_nbformat": 4,
  "vscode": {
   "interpreter": {
    "hash": "a0c3bd7c9556569dc1ef9443ec91d3b9c536ca2b41c586f54944571d5f995c32"
   }
  }
 },
 "nbformat": 4,
 "nbformat_minor": 2
}
