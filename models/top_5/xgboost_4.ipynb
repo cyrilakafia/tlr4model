{
 "cells": [
  {
   "cell_type": "markdown",
   "metadata": {},
   "source": [
    "XGBOOST MODELS FOR 77,953:77,953 RATIO\n",
    "> \n",
    "**Undersampling the incative class with Random Undersampling and Oversampling the active class with SMOTE**"
   ]
  },
  {
   "cell_type": "markdown",
   "metadata": {},
   "source": [
    "IMPORTING LIBRARIES AND DATA"
   ]
  },
  {
   "cell_type": "code",
   "execution_count": 1,
   "metadata": {},
   "outputs": [],
   "source": [
    "# the big three\n",
    "import numpy as np\n",
    "import pandas as pd\n",
    "import matplotlib.pyplot as plt\n",
    "\n",
    "# training algorithms\n",
    "import xgboost\n",
    "\n",
    "# resampling algorithms\n",
    "from imblearn.over_sampling import SMOTE\n",
    "from imblearn.under_sampling import RandomUnderSampler\n",
    "\n",
    "# importing other libraries\n",
    "from sklearn.model_selection import train_test_split\n",
    "from sklearn.feature_selection import VarianceThreshold\n",
    "from sklearn.preprocessing import MinMaxScaler\n",
    "\n",
    "# importing metrics \n",
    "from sklearn.metrics import ConfusionMatrixDisplay, roc_auc_score, accuracy_score, precision_score, recall_score, f1_score, matthews_corrcoef, confusion_matrix, roc_curve, auc, balanced_accuracy_score"
   ]
  },
  {
   "cell_type": "code",
   "execution_count": 2,
   "metadata": {},
   "outputs": [
    {
     "data": {
      "text/html": [
       "<div>\n",
       "<style scoped>\n",
       "    .dataframe tbody tr th:only-of-type {\n",
       "        vertical-align: middle;\n",
       "    }\n",
       "\n",
       "    .dataframe tbody tr th {\n",
       "        vertical-align: top;\n",
       "    }\n",
       "\n",
       "    .dataframe thead th {\n",
       "        text-align: right;\n",
       "    }\n",
       "</style>\n",
       "<table border=\"1\" class=\"dataframe\">\n",
       "  <thead>\n",
       "    <tr style=\"text-align: right;\">\n",
       "      <th></th>\n",
       "      <th>D001</th>\n",
       "      <th>D002</th>\n",
       "      <th>D003</th>\n",
       "      <th>D004</th>\n",
       "      <th>D005</th>\n",
       "      <th>D006</th>\n",
       "      <th>D007</th>\n",
       "      <th>D008</th>\n",
       "      <th>D009</th>\n",
       "      <th>D010</th>\n",
       "      <th>...</th>\n",
       "      <th>D769</th>\n",
       "      <th>D770</th>\n",
       "      <th>D771</th>\n",
       "      <th>D772</th>\n",
       "      <th>D773</th>\n",
       "      <th>D774</th>\n",
       "      <th>D775</th>\n",
       "      <th>D776</th>\n",
       "      <th>D777</th>\n",
       "      <th>Activity</th>\n",
       "    </tr>\n",
       "  </thead>\n",
       "  <tbody>\n",
       "    <tr>\n",
       "      <th>0</th>\n",
       "      <td>2</td>\n",
       "      <td>0</td>\n",
       "      <td>0</td>\n",
       "      <td>1</td>\n",
       "      <td>4</td>\n",
       "      <td>0</td>\n",
       "      <td>0</td>\n",
       "      <td>0</td>\n",
       "      <td>0</td>\n",
       "      <td>0</td>\n",
       "      <td>...</td>\n",
       "      <td>0</td>\n",
       "      <td>1</td>\n",
       "      <td>0</td>\n",
       "      <td>0</td>\n",
       "      <td>0</td>\n",
       "      <td>5.45943</td>\n",
       "      <td>-0.367670</td>\n",
       "      <td>0.363636</td>\n",
       "      <td>4.29650</td>\n",
       "      <td>0</td>\n",
       "    </tr>\n",
       "    <tr>\n",
       "      <th>1</th>\n",
       "      <td>1</td>\n",
       "      <td>0</td>\n",
       "      <td>0</td>\n",
       "      <td>2</td>\n",
       "      <td>1</td>\n",
       "      <td>0</td>\n",
       "      <td>0</td>\n",
       "      <td>0</td>\n",
       "      <td>0</td>\n",
       "      <td>0</td>\n",
       "      <td>...</td>\n",
       "      <td>0</td>\n",
       "      <td>1</td>\n",
       "      <td>0</td>\n",
       "      <td>0</td>\n",
       "      <td>0</td>\n",
       "      <td>5.08746</td>\n",
       "      <td>-0.772128</td>\n",
       "      <td>0.240000</td>\n",
       "      <td>2.31134</td>\n",
       "      <td>0</td>\n",
       "    </tr>\n",
       "    <tr>\n",
       "      <th>2</th>\n",
       "      <td>1</td>\n",
       "      <td>0</td>\n",
       "      <td>0</td>\n",
       "      <td>0</td>\n",
       "      <td>2</td>\n",
       "      <td>0</td>\n",
       "      <td>0</td>\n",
       "      <td>0</td>\n",
       "      <td>0</td>\n",
       "      <td>0</td>\n",
       "      <td>...</td>\n",
       "      <td>0</td>\n",
       "      <td>0</td>\n",
       "      <td>0</td>\n",
       "      <td>0</td>\n",
       "      <td>0</td>\n",
       "      <td>4.70044</td>\n",
       "      <td>-0.295978</td>\n",
       "      <td>0.300000</td>\n",
       "      <td>1.67610</td>\n",
       "      <td>0</td>\n",
       "    </tr>\n",
       "    <tr>\n",
       "      <th>3</th>\n",
       "      <td>2</td>\n",
       "      <td>0</td>\n",
       "      <td>0</td>\n",
       "      <td>1</td>\n",
       "      <td>3</td>\n",
       "      <td>0</td>\n",
       "      <td>0</td>\n",
       "      <td>0</td>\n",
       "      <td>0</td>\n",
       "      <td>0</td>\n",
       "      <td>...</td>\n",
       "      <td>0</td>\n",
       "      <td>1</td>\n",
       "      <td>1</td>\n",
       "      <td>0</td>\n",
       "      <td>0</td>\n",
       "      <td>5.49185</td>\n",
       "      <td>-0.357977</td>\n",
       "      <td>0.352941</td>\n",
       "      <td>2.63932</td>\n",
       "      <td>0</td>\n",
       "    </tr>\n",
       "    <tr>\n",
       "      <th>4</th>\n",
       "      <td>1</td>\n",
       "      <td>0</td>\n",
       "      <td>0</td>\n",
       "      <td>0</td>\n",
       "      <td>2</td>\n",
       "      <td>0</td>\n",
       "      <td>0</td>\n",
       "      <td>0</td>\n",
       "      <td>0</td>\n",
       "      <td>0</td>\n",
       "      <td>...</td>\n",
       "      <td>0</td>\n",
       "      <td>0</td>\n",
       "      <td>0</td>\n",
       "      <td>0</td>\n",
       "      <td>0</td>\n",
       "      <td>4.64386</td>\n",
       "      <td>-0.274183</td>\n",
       "      <td>0.315789</td>\n",
       "      <td>1.41996</td>\n",
       "      <td>0</td>\n",
       "    </tr>\n",
       "  </tbody>\n",
       "</table>\n",
       "<p>5 rows × 778 columns</p>\n",
       "</div>"
      ],
      "text/plain": [
       "   D001  D002  D003  D004  D005  D006  D007  D008  D009  D010  ...  D769  \\\n",
       "0     2     0     0     1     4     0     0     0     0     0  ...     0   \n",
       "1     1     0     0     2     1     0     0     0     0     0  ...     0   \n",
       "2     1     0     0     0     2     0     0     0     0     0  ...     0   \n",
       "3     2     0     0     1     3     0     0     0     0     0  ...     0   \n",
       "4     1     0     0     0     2     0     0     0     0     0  ...     0   \n",
       "\n",
       "   D770  D771  D772  D773     D774      D775      D776     D777  Activity  \n",
       "0     1     0     0     0  5.45943 -0.367670  0.363636  4.29650         0  \n",
       "1     1     0     0     0  5.08746 -0.772128  0.240000  2.31134         0  \n",
       "2     0     0     0     0  4.70044 -0.295978  0.300000  1.67610         0  \n",
       "3     1     1     0     0  5.49185 -0.357977  0.352941  2.63932         0  \n",
       "4     0     0     0     0  4.64386 -0.274183  0.315789  1.41996         0  \n",
       "\n",
       "[5 rows x 778 columns]"
      ]
     },
     "execution_count": 2,
     "metadata": {},
     "output_type": "execute_result"
    }
   ],
   "source": [
    "# read dataset into dataframe\n",
    "df = pd.read_csv(\"../../../data/final.csv\")\n",
    "df.head()"
   ]
  },
  {
   "cell_type": "code",
   "execution_count": 3,
   "metadata": {},
   "outputs": [
    {
     "data": {
      "text/plain": [
       "(195244, 778)"
      ]
     },
     "execution_count": 3,
     "metadata": {},
     "output_type": "execute_result"
    }
   ],
   "source": [
    "# checking dimension of dataset\n",
    "df.shape"
   ]
  },
  {
   "cell_type": "code",
   "execution_count": 4,
   "metadata": {},
   "outputs": [
    {
     "name": "stdout",
     "output_type": "stream",
     "text": [
      "0    194888\n",
      "1       356\n",
      "Name: Activity, dtype: int64\n"
     ]
    },
    {
     "data": {
      "image/png": "[encoded data removed]",
      "text/plain": [
       "<Figure size 432x288 with 1 Axes>"
      ]
     },
     "metadata": {},
     "output_type": "display_data"
    }
   ],
   "source": [
    "# divide dataframe into features, X and target y\n",
    "X = df.drop(['Activity'],axis=1)\n",
    "y = df['Activity']\n",
    "\n",
    "# checking class distribution\n",
    "print(y.value_counts())\n",
    "\n",
    "# visualizing the distribution of the active and inactive class\n",
    "ax = y.value_counts().plot(kind = 'pie', autopct = '%.3f')\n",
    "ax.set_title(\"Distribution\");"
   ]
  },
  {
   "cell_type": "markdown",
   "metadata": {},
   "source": [
    "DIVIDING INTO TRAIN AND TEST DATASET"
   ]
  },
  {
   "cell_type": "code",
   "execution_count": 5,
   "metadata": {},
   "outputs": [
    {
     "name": "stdout",
     "output_type": "stream",
     "text": [
      "The training and test data have the following dimensions:\n",
      "(156195, 777)(39049, 777)\n",
      "The class distribution of the train data:\n",
      "0    155906\n",
      "1       289\n",
      "Name: Activity, dtype: int64\n"
     ]
    },
    {
     "data": {
      "image/png": "[encoded data removed]",
      "text/plain": [
       "<Figure size 432x288 with 1 Axes>"
      ]
     },
     "metadata": {},
     "output_type": "display_data"
    }
   ],
   "source": [
    "# dividing datasets into train and test datasets\n",
    "X_train, X_test, y_train, y_test = train_test_split(X, y, test_size=0.2, random_state=42)\n",
    "\n",
    "# checking dimensions of train and test dataset\n",
    "print(\"The training and test data have the following dimensions:\\n{}{}\".format(X_train.shape, X_test.shape))\n",
    "\n",
    "# checking class distribution of train dataset\n",
    "print(\"The class distribution of the train data:\\n{}\".format(y_train.value_counts()))\n",
    "\n",
    "# visualizing class distribution of train dataset\n",
    "ax = y_train.value_counts().plot(kind = 'pie', autopct = '%.3f')\n",
    "ax.set_title(\"Training Set Distribution\");"
   ]
  },
  {
   "cell_type": "markdown",
   "metadata": {},
   "source": [
    "REMOVING LOW VARIANCE FEATURES\n",
    "> \n",
    "The variance threshold function will remove columns that dont meet a certain threshold. This is done to improve model performance"
   ]
  },
  {
   "cell_type": "code",
   "execution_count": 7,
   "metadata": {},
   "outputs": [],
   "source": [
    "vt = VarianceThreshold(threshold=(.8 * (1 - .8)))\n",
    "\n",
    "# Fit\n",
    "_ = vt.fit(X_train)\n",
    "\n",
    "# Get the mask\n",
    "mask = vt.get_support()\n",
    "\n",
    "# Subset the DataFrame\n",
    "X_train = X_train.loc[:, mask]\n",
    "X_test = X_test.loc[:, mask]"
   ]
  },
  {
   "cell_type": "code",
   "execution_count": 8,
   "metadata": {},
   "outputs": [
    {
     "data": {
      "text/plain": [
       "((156195, 359), (39049, 359))"
      ]
     },
     "execution_count": 8,
     "metadata": {},
     "output_type": "execute_result"
    }
   ],
   "source": [
    "X_train.shape, X_test.shape"
   ]
  },
  {
   "cell_type": "markdown",
   "metadata": {},
   "source": [
    "The number of rows in the dataset remain the same however the number of columns have reduced"
   ]
  },
  {
   "cell_type": "markdown",
   "metadata": {},
   "source": [
    "XGBOOST MODEL TRAINING\n",
    "> \n",
    "For this section, the model is trained on either unsampled data or resampled data."
   ]
  },
  {
   "cell_type": "markdown",
   "metadata": {},
   "source": [
    "RESAMPLING USING RUS AND SMOTE\n",
    "> \n",
    "The dataset is resampled using either one or a combination of random undersampler and smote with different ratios. Meaning, you can use undersampling and skip oversampling or vice versa or use both\n",
    ">\n",
    "**THIS STEP SHOULD BE SKIPPED IF NO RESAMPLING WILL BE DONE**"
   ]
  },
  {
   "cell_type": "markdown",
   "metadata": {},
   "source": [
    "OVERSAMPLING"
   ]
  },
  {
   "cell_type": "code",
   "execution_count": 9,
   "metadata": {},
   "outputs": [
    {
     "name": "stdout",
     "output_type": "stream",
     "text": [
      "0    155906\n",
      "1       289\n",
      "Name: Activity, dtype: int64\n"
     ]
    }
   ],
   "source": [
    "# over = SMOTE(sampling_strategy=0.5, random_state = 42)\n",
    "# X_train, y_train = over.fit_resample(X_train, y_train)\n",
    "\n",
    "# checking class distribution on resampled dataset\n",
    "print(y_train.value_counts())"
   ]
  },
  {
   "cell_type": "markdown",
   "metadata": {},
   "source": [
    "UNDERSAMPLING"
   ]
  },
  {
   "cell_type": "code",
   "execution_count": 10,
   "metadata": {},
   "outputs": [
    {
     "name": "stdout",
     "output_type": "stream",
     "text": [
      "0    77953\n",
      "1      289\n",
      "Name: Activity, dtype: int64\n"
     ]
    }
   ],
   "source": [
    "rus = RandomUnderSampler(sampling_strategy=0.003707362128462, random_state = 42)\n",
    "X_train, y_train = rus.fit_resample(X_train, y_train)\n",
    "\n",
    "# checking class distribution of further resampled dataset\n",
    "print(y_train.value_counts())"
   ]
  },
  {
   "cell_type": "markdown",
   "metadata": {},
   "source": [
    "**Visualizing distribution of final resampled dataset**\n"
   ]
  },
  {
   "cell_type": "code",
   "execution_count": 11,
   "metadata": {},
   "outputs": [
    {
     "name": "stdout",
     "output_type": "stream",
     "text": [
      "0    77953\n",
      "1      289\n",
      "Name: Activity, dtype: int64\n"
     ]
    },
    {
     "data": {
      "image/png": "[encoded data removed]",
      "text/plain": [
       "<Figure size 432x288 with 1 Axes>"
      ]
     },
     "metadata": {},
     "output_type": "display_data"
    }
   ],
   "source": [
    "# checking class distribution of further resampled dataset\n",
    "print(y_train.value_counts())\n",
    "\n",
    "ax = y_train.value_counts().plot(kind = 'pie', autopct = '%.3f')\n",
    "ax.set_title(\"Distribution of classes in Resampled Data\");"
   ]
  },
  {
   "cell_type": "code",
   "execution_count": 12,
   "metadata": {},
   "outputs": [
    {
     "data": {
      "text/plain": [
       "269.7335640138408"
      ]
     },
     "execution_count": 12,
     "metadata": {},
     "output_type": "execute_result"
    }
   ],
   "source": [
    "# checking ratio inactives to active to use as scale_pos_weight\n",
    "\n",
    "77953/289"
   ]
  },
  {
   "cell_type": "markdown",
   "metadata": {},
   "source": [
    "TRAINING MODELS"
   ]
  },
  {
   "cell_type": "code",
   "execution_count": 13,
   "metadata": {},
   "outputs": [
    {
     "name": "stdout",
     "output_type": "stream",
     "text": [
      "[18:43:22] WARNING: D:\\bld\\xgboost-split_1645118015404\\work\\src\\learner.cc:1115: Starting in XGBoost 1.3.0, the default evaluation metric used with the objective 'binary:logistic' was changed from 'error' to 'logloss'. Explicitly set eval_metric if you'd like to restore the old behavior.\n"
     ]
    },
    {
     "data": {
      "text/plain": [
       "XGBClassifier(base_score=0.5, booster='gbtree', colsample_bylevel=1,\n",
       "              colsample_bynode=1, colsample_bytree=1, enable_categorical=False,\n",
       "              gamma=0, gpu_id=-1, importance_type=None,\n",
       "              interaction_constraints='', learning_rate=0.300000012,\n",
       "              max_delta_step=0, max_depth=6, min_child_weight=1, missing=nan,\n",
       "              monotone_constraints='()', n_estimators=100, n_jobs=8,\n",
       "              num_parallel_tree=1, predictor='auto', random_state=0,\n",
       "              reg_alpha=0, reg_lambda=1, scale_pos_weight=269, subsample=1,\n",
       "              tree_method='exact', use_label_encoder=False,\n",
       "              validate_parameters=1, verbosity=None)"
      ]
     },
     "execution_count": 13,
     "metadata": {},
     "output_type": "execute_result"
    }
   ],
   "source": [
    "# creating model object\n",
    "clf = xgboost.XGBClassifier(use_label_encoder=False, scale_pos_weight = 269)\n",
    "\n",
    "# training model\n",
    "clf.fit(X_train, y_train)"
   ]
  },
  {
   "cell_type": "markdown",
   "metadata": {},
   "source": [
    "PREDICTIONS"
   ]
  },
  {
   "cell_type": "code",
   "execution_count": 14,
   "metadata": {},
   "outputs": [],
   "source": [
    "# predicting on train dataset\n",
    "train_predictions = clf.predict(X_train)    \n",
    "\n",
    "# predicting on test dataset\n",
    "test_predictions = clf.predict(X_test)"
   ]
  },
  {
   "cell_type": "markdown",
   "metadata": {},
   "source": [
    "If the performance of the model on the training dataset is significantly better than the performance on the test dataset, then the model may have overfit the training dataset."
   ]
  },
  {
   "cell_type": "markdown",
   "metadata": {},
   "source": [
    "CHECKING METRICS\n",
    "> \n",
    "The metrics will be checked for both the training data and the tes dataset\n",
    "> \n",
    "For the confusion matrix: <br>\n",
    "> \n",
    "True Negative (Top-Left Quadrant)<br>\n",
    "False Positive (Top-Right Quadrant)<br>\n",
    "False Negative (Bottom-Left Quadrant)<br>\n",
    "True Positive (Bottom-Right Quadrant)<br>"
   ]
  },
  {
   "cell_type": "markdown",
   "metadata": {},
   "source": [
    "TRAINING DATA"
   ]
  },
  {
   "cell_type": "code",
   "execution_count": 15,
   "metadata": {
    "scrolled": true
   },
   "outputs": [
    {
     "name": "stdout",
     "output_type": "stream",
     "text": [
      "Accuracy Score:  1.0\n",
      "Balanced Accuracy:  1.0\n",
      "Precision Score:  1.0\n",
      "Recall Score:  1.0\n",
      "F1 Score:  1.0\n",
      "MCC:  1.0\n",
      "AUROC:  1.0\n",
      "Average:  1.0\n"
     ]
    },
    {
     "data": {
      "image/png": "[encoded data removed]",
      "text/plain": [
       "<Figure size 432x288 with 2 Axes>"
      ]
     },
     "metadata": {
      "needs_background": "light"
     },
     "output_type": "display_data"
    }
   ],
   "source": [
    "accuracy_train = accuracy_score(y_train, train_predictions)\n",
    "balanced_accuracy_train = balanced_accuracy_score(y_train, train_predictions)\n",
    "precision_train = precision_score(y_train, train_predictions)\n",
    "recall_train = recall_score(y_train, train_predictions)\n",
    "f1_train = f1_score(y_train, train_predictions)\n",
    "mcc_train = matthews_corrcoef(y_train, train_predictions)\n",
    "\n",
    "pred_prob = clf.predict_proba(X_train)[:,1]\n",
    "auroc_train = roc_auc_score(y_train, pred_prob)\n",
    "\n",
    "avg_train = np.mean([balanced_accuracy_train, precision_train, recall_train, f1_train, mcc_train])\n",
    "\n",
    "print(\"Accuracy Score: \", accuracy_train)\n",
    "print(\"Balanced Accuracy: \", balanced_accuracy_train)\n",
    "print(\"Precision Score: \", precision_train)\n",
    "print(\"Recall Score: \", recall_train)\n",
    "print(\"F1 Score: \", f1_train)\n",
    "print(\"MCC: \", mcc_train)\n",
    "print(\"AUROC: \", auroc_train)\n",
    "\n",
    "print(\"Average: \", avg_train)\n",
    "\n",
    "cm = confusion_matrix(y_train, train_predictions)\n",
    "\n",
    "cm_display = ConfusionMatrixDisplay(confusion_matrix = cm, display_labels = [False, True])\n",
    "\n",
    "cm_display.plot()\n",
    "plt.show()"
   ]
  },
  {
   "cell_type": "markdown",
   "metadata": {},
   "source": [
    "TEST DATA"
   ]
  },
  {
   "cell_type": "code",
   "execution_count": 16,
   "metadata": {},
   "outputs": [
    {
     "name": "stdout",
     "output_type": "stream",
     "text": [
      "Accuracy Score:  0.9996670849445568\n",
      "Balanced Accuracy:  0.9104349347613173\n",
      "Precision Score:  0.9821428571428571\n",
      "Recall Score:  0.8208955223880597\n",
      "F1 Score:  0.8943089430894309\n",
      "MCC:  0.8977521140653482\n",
      "AUROC:  0.9935527074493624\n",
      "Average:  0.9011068742894025\n"
     ]
    },
    {
     "data": {
      "image/png": "[encoded data removed]",
      "text/plain": [
       "<Figure size 432x288 with 2 Axes>"
      ]
     },
     "metadata": {
      "needs_background": "light"
     },
     "output_type": "display_data"
    }
   ],
   "source": [
    "accuracy_test = accuracy_score(y_test, test_predictions)\n",
    "balanced_accuracy_test = balanced_accuracy_score(y_test, test_predictions)\n",
    "precision_test = precision_score(y_test, test_predictions)\n",
    "recall_test = recall_score(y_test, test_predictions)\n",
    "f1_test = f1_score(y_test, test_predictions)\n",
    "mcc_test = matthews_corrcoef(y_test, test_predictions)\n",
    "\n",
    "pred_prob = clf.predict_proba(X_test)\n",
    "auroc_test = roc_auc_score(y_test, pred_prob[:,1])\n",
    "\n",
    "#taking the mean of balanced accuracy, precision, recall, f1 and mcc\n",
    "avg_test = np.mean([balanced_accuracy_test, precision_test, recall_test, f1_test, mcc_test])\n",
    "\n",
    "print(\"Accuracy Score: \", accuracy_test)\n",
    "print(\"Balanced Accuracy: \", balanced_accuracy_test)\n",
    "print(\"Precision Score: \", precision_test)\n",
    "print(\"Recall Score: \", recall_test)\n",
    "print(\"F1 Score: \", f1_test)\n",
    "print(\"MCC: \", mcc_test)\n",
    "print(\"AUROC: \", auroc_test)\n",
    "\n",
    "print(\"Average: \", avg_test)\n",
    "\n",
    "cm = confusion_matrix(y_test, test_predictions)\n",
    "\n",
    "cm_display = ConfusionMatrixDisplay(confusion_matrix = cm, display_labels = [False, True])\n",
    "\n",
    "cm_display.plot()\n",
    "plt.show()"
   ]
  },
  {
   "cell_type": "markdown",
   "metadata": {},
   "source": [
    "PLOTTING THE AUROC CURVE\n",
    "> \n",
    "This is done for only the test data"
   ]
  },
  {
   "cell_type": "code",
   "execution_count": 17,
   "metadata": {},
   "outputs": [
    {
     "data": {
      "image/png": "[encoded data removed]",
      "text/plain": [
       "<Figure size 500x500 with 1 Axes>"
      ]
     },
     "metadata": {
      "needs_background": "light"
     },
     "output_type": "display_data"
    }
   ],
   "source": [
    "fpr, tpr, threshold = roc_curve(y_test, pred_prob[:, 1])\n",
    "auc_score = auc(fpr, tpr)\n",
    "\n",
    "plt.figure(figsize = (5, 5), dpi = 100)\n",
    "plt.plot(fpr, tpr, label = 'XGBoost (auc = {})' .format(auc_score))\n",
    "plt.xlabel('False Positve Rate -->')\n",
    "plt.ylabel('True Positive Rate -->')\n",
    "\n",
    "plt.legend()\n",
    "plt.show()"
   ]
  },
  {
   "cell_type": "code",
   "execution_count": 18,
   "metadata": {},
   "outputs": [],
   "source": [
    "# import pickle\n",
    "import pickle"
   ]
  },
  {
   "cell_type": "code",
   "execution_count": 19,
   "metadata": {},
   "outputs": [],
   "source": [
    "# saving model\n",
    "with open('saved_models/xgboost_4_pred/xgboost_4_pickle', 'wb') as f:\n",
    "    pickle.dump(clf, f)"
   ]
  },
  {
   "cell_type": "code",
   "execution_count": 20,
   "metadata": {},
   "outputs": [],
   "source": [
    "# saving variance threshold object\n",
    "with open('saved_models/xgboost_4_pred/xgboost_4_vt_pickle', 'wb') as f:\n",
    "    pickle.dump(mask, f)"
   ]
  }
 ],
 "metadata": {
  "kernelspec": {
   "display_name": "Python 3 (ipykernel)",
   "language": "python",
   "name": "python3"
  },
  "language_info": {
   "codemirror_mode": {
    "name": "ipython",
    "version": 3
   },
   "file_extension": ".py",
   "mimetype": "text/x-python",
   "name": "python",
   "nbconvert_exporter": "python",
   "pygments_lexer": "ipython3",
   "version": "3.9.7"
  },
  "vscode": {
   "interpreter": {
    "hash": "a0c3bd7c9556569dc1ef9443ec91d3b9c536ca2b41c586f54944571d5f995c32"
   }
  }
 },
 "nbformat": 4,
 "nbformat_minor": 2
}
